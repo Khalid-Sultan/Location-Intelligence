{
 "cells": [
  {
   "cell_type": "code",
   "execution_count": 1,
   "metadata": {},
   "outputs": [
    {
     "name": "stdout",
     "output_type": "stream",
     "text": [
      "'Data Preprocessing.ipynb'   supermarkets_cleaned_with_popn.csv\n",
      "'Data Scrapper.ipynb'\t     supermarkets_cleaned_with_popn_v2.csv\n",
      "'Location Analysis.ipynb'    tempmodel.h5\n",
      " Model.ipynb\t\t     tempmodel_v2.h5\n",
      " supermarkets_cleaned.csv\n"
     ]
    }
   ],
   "source": [
    "!ls"
   ]
  },
  {
   "cell_type": "code",
   "execution_count": 2,
   "metadata": {},
   "outputs": [
    {
     "name": "stdout",
     "output_type": "stream",
     "text": [
      "[pyKeOps]: Warning, cuda was detected, but driver API could not be initialized. Switching to cpu only.\n"
     ]
    }
   ],
   "source": [
    "import pandas as pd\n",
    "import torch\n",
    "import torch.nn as nn\n",
    "import torch.nn.functional as F\n",
    "import random\n",
    "import numpy as np\n",
    "from matplotlib import pyplot as plt\n",
    "from pykeops.torch import LazyTensor\n",
    "from sklearn.cluster import KMeans"
   ]
  },
  {
   "cell_type": "code",
   "execution_count": 3,
   "metadata": {},
   "outputs": [
    {
     "data": {
      "text/html": [
       "<div>\n",
       "<style scoped>\n",
       "    .dataframe tbody tr th:only-of-type {\n",
       "        vertical-align: middle;\n",
       "    }\n",
       "\n",
       "    .dataframe tbody tr th {\n",
       "        vertical-align: top;\n",
       "    }\n",
       "\n",
       "    .dataframe thead th {\n",
       "        text-align: right;\n",
       "    }\n",
       "</style>\n",
       "<table border=\"1\" class=\"dataframe\">\n",
       "  <thead>\n",
       "    <tr style=\"text-align: right;\">\n",
       "      <th></th>\n",
       "      <th>business_status</th>\n",
       "      <th>name</th>\n",
       "      <th>latitude</th>\n",
       "      <th>longitude</th>\n",
       "      <th>rating</th>\n",
       "      <th>atms</th>\n",
       "      <th>banks</th>\n",
       "      <th>bus_stations</th>\n",
       "      <th>churches</th>\n",
       "      <th>gas_stations</th>\n",
       "      <th>...</th>\n",
       "      <th>mosques</th>\n",
       "      <th>pharmacies</th>\n",
       "      <th>restaurants</th>\n",
       "      <th>schools</th>\n",
       "      <th>train_stations</th>\n",
       "      <th>Males</th>\n",
       "      <th>Females</th>\n",
       "      <th>Children</th>\n",
       "      <th>Working</th>\n",
       "      <th>Elderly</th>\n",
       "    </tr>\n",
       "  </thead>\n",
       "  <tbody>\n",
       "    <tr>\n",
       "      <th>0</th>\n",
       "      <td>OPERATIONAL</td>\n",
       "      <td>AllMart Plus, Ayat Neighborhood, Addis Ababa</td>\n",
       "      <td>9.020171</td>\n",
       "      <td>38.875108</td>\n",
       "      <td>-1.0</td>\n",
       "      <td>1</td>\n",
       "      <td>9</td>\n",
       "      <td>0</td>\n",
       "      <td>7</td>\n",
       "      <td>3</td>\n",
       "      <td>...</td>\n",
       "      <td>0</td>\n",
       "      <td>2</td>\n",
       "      <td>28</td>\n",
       "      <td>4</td>\n",
       "      <td>0</td>\n",
       "      <td>145225</td>\n",
       "      <td>163770</td>\n",
       "      <td>75491</td>\n",
       "      <td>225517</td>\n",
       "      <td>7987</td>\n",
       "    </tr>\n",
       "    <tr>\n",
       "      <th>1</th>\n",
       "      <td>OPERATIONAL</td>\n",
       "      <td>Nahuta SuperMarket</td>\n",
       "      <td>9.022502</td>\n",
       "      <td>38.785852</td>\n",
       "      <td>5.0</td>\n",
       "      <td>8</td>\n",
       "      <td>36</td>\n",
       "      <td>0</td>\n",
       "      <td>15</td>\n",
       "      <td>1</td>\n",
       "      <td>...</td>\n",
       "      <td>4</td>\n",
       "      <td>9</td>\n",
       "      <td>105</td>\n",
       "      <td>28</td>\n",
       "      <td>0</td>\n",
       "      <td>161592</td>\n",
       "      <td>185072</td>\n",
       "      <td>83403</td>\n",
       "      <td>251219</td>\n",
       "      <td>12042</td>\n",
       "    </tr>\n",
       "    <tr>\n",
       "      <th>2</th>\n",
       "      <td>OPERATIONAL</td>\n",
       "      <td>Afran Mini Market</td>\n",
       "      <td>9.057363</td>\n",
       "      <td>38.724341</td>\n",
       "      <td>-1.0</td>\n",
       "      <td>0</td>\n",
       "      <td>15</td>\n",
       "      <td>0</td>\n",
       "      <td>9</td>\n",
       "      <td>2</td>\n",
       "      <td>...</td>\n",
       "      <td>9</td>\n",
       "      <td>6</td>\n",
       "      <td>54</td>\n",
       "      <td>20</td>\n",
       "      <td>0</td>\n",
       "      <td>129396</td>\n",
       "      <td>138228</td>\n",
       "      <td>61641</td>\n",
       "      <td>195556</td>\n",
       "      <td>10427</td>\n",
       "    </tr>\n",
       "    <tr>\n",
       "      <th>3</th>\n",
       "      <td>OPERATIONAL</td>\n",
       "      <td>251 Store ET Gerji store</td>\n",
       "      <td>9.001777</td>\n",
       "      <td>38.810458</td>\n",
       "      <td>-1.0</td>\n",
       "      <td>1</td>\n",
       "      <td>27</td>\n",
       "      <td>0</td>\n",
       "      <td>11</td>\n",
       "      <td>1</td>\n",
       "      <td>...</td>\n",
       "      <td>0</td>\n",
       "      <td>13</td>\n",
       "      <td>153</td>\n",
       "      <td>27</td>\n",
       "      <td>0</td>\n",
       "      <td>145225</td>\n",
       "      <td>163770</td>\n",
       "      <td>75491</td>\n",
       "      <td>225517</td>\n",
       "      <td>7987</td>\n",
       "    </tr>\n",
       "    <tr>\n",
       "      <th>4</th>\n",
       "      <td>OPERATIONAL</td>\n",
       "      <td>Selam Super Market</td>\n",
       "      <td>9.011199</td>\n",
       "      <td>38.796551</td>\n",
       "      <td>-1.0</td>\n",
       "      <td>1</td>\n",
       "      <td>34</td>\n",
       "      <td>0</td>\n",
       "      <td>22</td>\n",
       "      <td>6</td>\n",
       "      <td>...</td>\n",
       "      <td>1</td>\n",
       "      <td>9</td>\n",
       "      <td>110</td>\n",
       "      <td>21</td>\n",
       "      <td>0</td>\n",
       "      <td>145225</td>\n",
       "      <td>163770</td>\n",
       "      <td>75491</td>\n",
       "      <td>225517</td>\n",
       "      <td>7987</td>\n",
       "    </tr>\n",
       "  </tbody>\n",
       "</table>\n",
       "<p>5 rows × 21 columns</p>\n",
       "</div>"
      ],
      "text/plain": [
       "  business_status                                          name  latitude  \\\n",
       "0     OPERATIONAL  AllMart Plus, Ayat Neighborhood, Addis Ababa  9.020171   \n",
       "1     OPERATIONAL                            Nahuta SuperMarket  9.022502   \n",
       "2     OPERATIONAL                             Afran Mini Market  9.057363   \n",
       "3     OPERATIONAL                      251 Store ET Gerji store  9.001777   \n",
       "4     OPERATIONAL                            Selam Super Market  9.011199   \n",
       "\n",
       "   longitude  rating  atms  banks  bus_stations  churches  gas_stations  ...  \\\n",
       "0  38.875108    -1.0     1      9             0         7             3  ...   \n",
       "1  38.785852     5.0     8     36             0        15             1  ...   \n",
       "2  38.724341    -1.0     0     15             0         9             2  ...   \n",
       "3  38.810458    -1.0     1     27             0        11             1  ...   \n",
       "4  38.796551    -1.0     1     34             0        22             6  ...   \n",
       "\n",
       "   mosques  pharmacies  restaurants  schools  train_stations   Males  Females  \\\n",
       "0        0           2           28        4               0  145225   163770   \n",
       "1        4           9          105       28               0  161592   185072   \n",
       "2        9           6           54       20               0  129396   138228   \n",
       "3        0          13          153       27               0  145225   163770   \n",
       "4        1           9          110       21               0  145225   163770   \n",
       "\n",
       "   Children  Working  Elderly  \n",
       "0     75491   225517     7987  \n",
       "1     83403   251219    12042  \n",
       "2     61641   195556    10427  \n",
       "3     75491   225517     7987  \n",
       "4     75491   225517     7987  \n",
       "\n",
       "[5 rows x 21 columns]"
      ]
     },
     "execution_count": 3,
     "metadata": {},
     "output_type": "execute_result"
    }
   ],
   "source": [
    "#Read Data, Drop unnecessary column and change - in rating to -1\n",
    "supermarkets = pd.read_csv('supermarkets_cleaned_with_popn_v2.csv')\n",
    "supermarkets.drop('Unnamed: 0', axis=1, inplace=True)\n",
    "supermarkets.loc[supermarkets['rating']=='-', 'rating'] = -1\n",
    "supermarkets.loc[supermarkets['rating']=='0.0', 'rating'] = -1\n",
    "supermarkets.rating = supermarkets.rating.map(float)\n",
    "supermarkets.head()\n"
   ]
  },
  {
   "cell_type": "code",
   "execution_count": 4,
   "metadata": {},
   "outputs": [
    {
     "data": {
      "image/png": "[encoded data removed]",
      "text/plain": [
       "<Figure size 432x288 with 1 Axes>"
      ]
     },
     "metadata": {
      "needs_background": "light"
     },
     "output_type": "display_data"
    },
    {
     "data": {
      "image/png": "[encoded data removed]",
      "text/plain": [
       "<Figure size 432x288 with 1 Axes>"
      ]
     },
     "metadata": {
      "needs_background": "light"
     },
     "output_type": "display_data"
    },
    {
     "data": {
      "image/png": "[encoded data removed]",
      "text/plain": [
       "<Figure size 432x288 with 1 Axes>"
      ]
     },
     "metadata": {
      "needs_background": "light"
     },
     "output_type": "display_data"
    },
    {
     "data": {
      "image/png": "[encoded data removed]",
      "text/plain": [
       "<Figure size 432x288 with 1 Axes>"
      ]
     },
     "metadata": {
      "needs_background": "light"
     },
     "output_type": "display_data"
    },
    {
     "data": {
      "image/png": "[encoded data removed]",
      "text/plain": [
       "<Figure size 432x288 with 1 Axes>"
      ]
     },
     "metadata": {
      "needs_background": "light"
     },
     "output_type": "display_data"
    },
    {
     "data": {
      "image/png": "[encoded data removed]",
      "text/plain": [
       "<Figure size 432x288 with 1 Axes>"
      ]
     },
     "metadata": {
      "needs_background": "light"
     },
     "output_type": "display_data"
    },
    {
     "data": {
      "image/png": "[encoded data removed]",
      "text/plain": [
       "<Figure size 432x288 with 1 Axes>"
      ]
     },
     "metadata": {
      "needs_background": "light"
     },
     "output_type": "display_data"
    },
    {
     "data": {
      "image/png": "[encoded data removed]",
      "text/plain": [
       "<Figure size 432x288 with 1 Axes>"
      ]
     },
     "metadata": {
      "needs_background": "light"
     },
     "output_type": "display_data"
    },
    {
     "data": {
      "image/png": "[encoded data removed]",
      "text/plain": [
       "<Figure size 432x288 with 1 Axes>"
      ]
     },
     "metadata": {
      "needs_background": "light"
     },
     "output_type": "display_data"
    },
    {
     "data": {
      "image/png": "[encoded data removed]",
      "text/plain": [
       "<Figure size 432x288 with 1 Axes>"
      ]
     },
     "metadata": {
      "needs_background": "light"
     },
     "output_type": "display_data"
    },
    {
     "data": {
      "image/png": "[encoded data removed]",
      "text/plain": [
       "<Figure size 432x288 with 1 Axes>"
      ]
     },
     "metadata": {
      "needs_background": "light"
     },
     "output_type": "display_data"
    },
    {
     "data": {
      "image/png": "[encoded data removed]",
      "text/plain": [
       "<Figure size 432x288 with 1 Axes>"
      ]
     },
     "metadata": {
      "needs_background": "light"
     },
     "output_type": "display_data"
    },
    {
     "data": {
      "image/png": "[encoded data removed]",
      "text/plain": [
       "<Figure size 432x288 with 1 Axes>"
      ]
     },
     "metadata": {
      "needs_background": "light"
     },
     "output_type": "display_data"
    },
    {
     "data": {
      "image/png": "[encoded data removed]",
      "text/plain": [
       "<Figure size 432x288 with 1 Axes>"
      ]
     },
     "metadata": {
      "needs_background": "light"
     },
     "output_type": "display_data"
    },
    {
     "data": {
      "image/png": "[encoded data removed]",
      "text/plain": [
       "<Figure size 432x288 with 1 Axes>"
      ]
     },
     "metadata": {
      "needs_background": "light"
     },
     "output_type": "display_data"
    },
    {
     "data": {
      "image/png": "[encoded data removed]",
      "text/plain": [
       "<Figure size 432x288 with 1 Axes>"
      ]
     },
     "metadata": {
      "needs_background": "light"
     },
     "output_type": "display_data"
    }
   ],
   "source": [
    "#Plot histogram to show distribution of features among the highest ranked supermarkets\n",
    "columns = supermarkets.columns\n",
    "rating_highest = supermarkets[supermarkets['rating']==5.0]\n",
    "for col in columns:\n",
    "    if col not in {'rating', 'business_status', 'name', 'latitude', 'longitude'}:\n",
    "        rating_highest[col].plot.hist(bins = 10, alpha=0.5,title = col)\n",
    "        plt.show()"
   ]
  },
  {
   "cell_type": "code",
   "execution_count": 5,
   "metadata": {},
   "outputs": [
    {
     "data": {
      "text/html": [
       "<div>\n",
       "<style scoped>\n",
       "    .dataframe tbody tr th:only-of-type {\n",
       "        vertical-align: middle;\n",
       "    }\n",
       "\n",
       "    .dataframe tbody tr th {\n",
       "        vertical-align: top;\n",
       "    }\n",
       "\n",
       "    .dataframe thead th {\n",
       "        text-align: right;\n",
       "    }\n",
       "</style>\n",
       "<table border=\"1\" class=\"dataframe\">\n",
       "  <thead>\n",
       "    <tr style=\"text-align: right;\">\n",
       "      <th></th>\n",
       "      <th>rating</th>\n",
       "      <th>predicted_rating</th>\n",
       "    </tr>\n",
       "  </thead>\n",
       "  <tbody>\n",
       "    <tr>\n",
       "      <th>0</th>\n",
       "      <td>-1.0</td>\n",
       "      <td>1</td>\n",
       "    </tr>\n",
       "    <tr>\n",
       "      <th>1</th>\n",
       "      <td>5.0</td>\n",
       "      <td>5</td>\n",
       "    </tr>\n",
       "    <tr>\n",
       "      <th>2</th>\n",
       "      <td>-1.0</td>\n",
       "      <td>4</td>\n",
       "    </tr>\n",
       "    <tr>\n",
       "      <th>3</th>\n",
       "      <td>-1.0</td>\n",
       "      <td>1</td>\n",
       "    </tr>\n",
       "    <tr>\n",
       "      <th>4</th>\n",
       "      <td>-1.0</td>\n",
       "      <td>1</td>\n",
       "    </tr>\n",
       "    <tr>\n",
       "      <th>5</th>\n",
       "      <td>-1.0</td>\n",
       "      <td>0</td>\n",
       "    </tr>\n",
       "    <tr>\n",
       "      <th>6</th>\n",
       "      <td>-1.0</td>\n",
       "      <td>4</td>\n",
       "    </tr>\n",
       "    <tr>\n",
       "      <th>7</th>\n",
       "      <td>-1.0</td>\n",
       "      <td>0</td>\n",
       "    </tr>\n",
       "    <tr>\n",
       "      <th>8</th>\n",
       "      <td>-1.0</td>\n",
       "      <td>1</td>\n",
       "    </tr>\n",
       "    <tr>\n",
       "      <th>9</th>\n",
       "      <td>-1.0</td>\n",
       "      <td>0</td>\n",
       "    </tr>\n",
       "    <tr>\n",
       "      <th>10</th>\n",
       "      <td>5.0</td>\n",
       "      <td>2</td>\n",
       "    </tr>\n",
       "    <tr>\n",
       "      <th>11</th>\n",
       "      <td>3.8</td>\n",
       "      <td>1</td>\n",
       "    </tr>\n",
       "    <tr>\n",
       "      <th>12</th>\n",
       "      <td>5.0</td>\n",
       "      <td>0</td>\n",
       "    </tr>\n",
       "    <tr>\n",
       "      <th>13</th>\n",
       "      <td>-1.0</td>\n",
       "      <td>0</td>\n",
       "    </tr>\n",
       "    <tr>\n",
       "      <th>14</th>\n",
       "      <td>-1.0</td>\n",
       "      <td>2</td>\n",
       "    </tr>\n",
       "    <tr>\n",
       "      <th>15</th>\n",
       "      <td>-1.0</td>\n",
       "      <td>2</td>\n",
       "    </tr>\n",
       "    <tr>\n",
       "      <th>16</th>\n",
       "      <td>4.5</td>\n",
       "      <td>0</td>\n",
       "    </tr>\n",
       "    <tr>\n",
       "      <th>17</th>\n",
       "      <td>-1.0</td>\n",
       "      <td>4</td>\n",
       "    </tr>\n",
       "    <tr>\n",
       "      <th>18</th>\n",
       "      <td>3.9</td>\n",
       "      <td>1</td>\n",
       "    </tr>\n",
       "    <tr>\n",
       "      <th>19</th>\n",
       "      <td>-1.0</td>\n",
       "      <td>4</td>\n",
       "    </tr>\n",
       "    <tr>\n",
       "      <th>20</th>\n",
       "      <td>5.0</td>\n",
       "      <td>0</td>\n",
       "    </tr>\n",
       "    <tr>\n",
       "      <th>21</th>\n",
       "      <td>-1.0</td>\n",
       "      <td>1</td>\n",
       "    </tr>\n",
       "    <tr>\n",
       "      <th>22</th>\n",
       "      <td>-1.0</td>\n",
       "      <td>0</td>\n",
       "    </tr>\n",
       "    <tr>\n",
       "      <th>23</th>\n",
       "      <td>5.0</td>\n",
       "      <td>1</td>\n",
       "    </tr>\n",
       "    <tr>\n",
       "      <th>24</th>\n",
       "      <td>-1.0</td>\n",
       "      <td>0</td>\n",
       "    </tr>\n",
       "    <tr>\n",
       "      <th>25</th>\n",
       "      <td>4.0</td>\n",
       "      <td>0</td>\n",
       "    </tr>\n",
       "    <tr>\n",
       "      <th>26</th>\n",
       "      <td>-1.0</td>\n",
       "      <td>4</td>\n",
       "    </tr>\n",
       "    <tr>\n",
       "      <th>27</th>\n",
       "      <td>-1.0</td>\n",
       "      <td>1</td>\n",
       "    </tr>\n",
       "    <tr>\n",
       "      <th>28</th>\n",
       "      <td>-1.0</td>\n",
       "      <td>1</td>\n",
       "    </tr>\n",
       "    <tr>\n",
       "      <th>29</th>\n",
       "      <td>-1.0</td>\n",
       "      <td>2</td>\n",
       "    </tr>\n",
       "  </tbody>\n",
       "</table>\n",
       "</div>"
      ],
      "text/plain": [
       "    rating  predicted_rating\n",
       "0     -1.0                 1\n",
       "1      5.0                 5\n",
       "2     -1.0                 4\n",
       "3     -1.0                 1\n",
       "4     -1.0                 1\n",
       "5     -1.0                 0\n",
       "6     -1.0                 4\n",
       "7     -1.0                 0\n",
       "8     -1.0                 1\n",
       "9     -1.0                 0\n",
       "10     5.0                 2\n",
       "11     3.8                 1\n",
       "12     5.0                 0\n",
       "13    -1.0                 0\n",
       "14    -1.0                 2\n",
       "15    -1.0                 2\n",
       "16     4.5                 0\n",
       "17    -1.0                 4\n",
       "18     3.9                 1\n",
       "19    -1.0                 4\n",
       "20     5.0                 0\n",
       "21    -1.0                 1\n",
       "22    -1.0                 0\n",
       "23     5.0                 1\n",
       "24    -1.0                 0\n",
       "25     4.0                 0\n",
       "26    -1.0                 4\n",
       "27    -1.0                 1\n",
       "28    -1.0                 1\n",
       "29    -1.0                 2"
      ]
     },
     "execution_count": 5,
     "metadata": {},
     "output_type": "execute_result"
    }
   ],
   "source": [
    "#Try Kmeans to fill out the missing values\n",
    "km = KMeans(n_clusters=6)\n",
    "x = supermarkets.drop(['rating', 'business_status', 'name', 'latitude', 'longitude'],axis=1).values\n",
    "yp = km.fit_predict(x)\n",
    "supermarkets['predicted_rating'] = yp\n",
    "supermarkets[['rating', 'predicted_rating']].head(30)"
   ]
  },
  {
   "cell_type": "code",
   "execution_count": 6,
   "metadata": {},
   "outputs": [
    {
     "data": {
      "text/plain": [
       "5    1066\n",
       "4     225\n",
       "3      59\n",
       "1      22\n",
       "2      16\n",
       "Name: rating, dtype: int64"
      ]
     },
     "execution_count": 6,
     "metadata": {},
     "output_type": "execute_result"
    }
   ],
   "source": [
    "supermarkets.loc[supermarkets['rating']==-1.0, 'rating'] = np.random.choice([1.0,2.0,3.0,4.0,5.0])\n",
    "supermarkets['rating'] = np.around(supermarkets['rating'].astype(np.float))\n",
    "supermarkets['rating'] = supermarkets['rating'].map(int)\n",
    "supermarkets['rating'].value_counts()"
   ]
  },
  {
   "cell_type": "code",
   "execution_count": 7,
   "metadata": {},
   "outputs": [],
   "source": [
    "from sklearn.model_selection import train_test_split\n",
    "\n",
    "X = supermarkets.drop(['business_status','name','latitude','longitude', 'rating', 'predicted_rating'], axis=1).values\n",
    "y = supermarkets['rating'].values\n",
    "\n",
    "X, y = torch.tensor(X), torch.tensor(y)"
   ]
  },
  {
   "cell_type": "code",
   "execution_count": 8,
   "metadata": {},
   "outputs": [],
   "source": [
    "def one_hot_encode(vector):\n",
    "    n_classes = len(vector.unique())\n",
    "    one_hot = torch.zeros((vector.shape[0], n_classes)).type(torch.LongTensor)\n",
    "    vector_type = vector.type(torch.LongTensor).unsqueeze(1)\n",
    "    return one_hot.scatter(0, vector_type, 1)\n",
    "y_one_hot = one_hot_encode(y)"
   ]
  },
  {
   "cell_type": "code",
   "execution_count": 9,
   "metadata": {},
   "outputs": [],
   "source": [
    "# random_indices = torch.randperm(X.shape[0])\n",
    "\n",
    "n_train = int(0.8 * X.shape[0])\n",
    "\n",
    "X_train = X[:n_train]\n",
    "X_test = X[n_train:]\n",
    "\n",
    "y_train = y[:n_train]\n",
    "y_test = y[n_train:]\n",
    "\n",
    "y_train_one_hot = y_one_hot[:n_train]\n",
    "y_test_one_hot = y_one_hot[n_train:]"
   ]
  },
  {
   "cell_type": "code",
   "execution_count": 10,
   "metadata": {},
   "outputs": [],
   "source": [
    "model = torch.nn.Sequential(\n",
    "    torch.nn.Linear(16, 6),\n",
    "    # torch.nn.Linear(120, 5)\n",
    ")"
   ]
  },
  {
   "cell_type": "code",
   "execution_count": 11,
   "metadata": {},
   "outputs": [],
   "source": [
    "learning_rate = 0.05\n",
    "lambda_param = 0.01\n",
    "optimizer = torch.optim.SGD(\n",
    "    model.parameters(), \n",
    "    lr=learning_rate, \n",
    "    weight_decay=lambda_param\n",
    ")"
   ]
  },
  {
   "cell_type": "code",
   "execution_count": 12,
   "metadata": {},
   "outputs": [],
   "source": [
    "loss_function = torch.nn.CrossEntropyLoss()"
   ]
  },
  {
   "cell_type": "code",
   "execution_count": 13,
   "metadata": {},
   "outputs": [
    {
     "name": "stdout",
     "output_type": "stream",
     "text": [
      "Loss at iteration 1: 62934.2109375\n",
      "Loss at iteration 50: 517731808.0\n",
      "Loss at iteration 100: 767708928.0\n",
      "Loss at iteration 150: 866658816.0\n",
      "Loss at iteration 200: 268641312.0\n",
      "Loss at iteration 250: 642190592.0\n",
      "Loss at iteration 300: 831082112.0\n",
      "Loss at iteration 350: 233491520.0\n",
      "Loss at iteration 400: 918369280.0\n",
      "Loss at iteration 450: 499566880.0\n",
      "Loss at iteration 500: 143941968.0\n",
      "Loss at iteration 550: 931371200.0\n",
      "Loss at iteration 600: 273205184.0\n",
      "Loss at iteration 650: 426394112.0\n",
      "Loss at iteration 700: 722117312.0\n",
      "Loss at iteration 750: 325555168.0\n",
      "Loss at iteration 800: 854237120.0\n",
      "Loss at iteration 850: 164614000.0\n",
      "Loss at iteration 900: 944140160.0\n",
      "Loss at iteration 950: 985991808.0\n",
      "Loss at iteration 1000: 1434395520.0\n",
      "Loss at iteration 1050: 757886144.0\n",
      "Loss at iteration 1100: 1290614400.0\n",
      "Loss at iteration 1150: 513161696.0\n",
      "Loss at iteration 1200: 1161728128.0\n",
      "Loss at iteration 1250: 341968512.0\n",
      "Loss at iteration 1300: 338175808.0\n",
      "Loss at iteration 1350: 945892800.0\n",
      "Loss at iteration 1400: 424316096.0\n",
      "Loss at iteration 1450: 586151168.0\n",
      "Loss at iteration 1500: 1115067648.0\n",
      "Loss at iteration 1550: 195748240.0\n",
      "Loss at iteration 1600: 945240256.0\n",
      "Loss at iteration 1650: 1252430336.0\n",
      "Loss at iteration 1700: 458273632.0\n",
      "Loss at iteration 1750: 355036032.0\n",
      "Loss at iteration 1800: 1387217920.0\n",
      "Loss at iteration 1850: 567645760.0\n",
      "Loss at iteration 1900: 751375680.0\n",
      "Loss at iteration 1950: 734790144.0\n",
      "Loss at iteration 2000: 406364992.0\n",
      "Loss at iteration 2050: 696284992.0\n",
      "Loss at iteration 2100: 712640000.0\n",
      "Loss at iteration 2150: 1277681536.0\n",
      "Loss at iteration 2200: 358195648.0\n",
      "Loss at iteration 2250: 517235264.0\n",
      "Loss at iteration 2300: 1151531648.0\n",
      "Loss at iteration 2350: 600841152.0\n",
      "Loss at iteration 2400: 871244800.0\n",
      "Loss at iteration 2450: 1132797056.0\n",
      "Loss at iteration 2500: 777524032.0\n",
      "Loss at iteration 2550: 535261856.0\n",
      "Loss at iteration 2600: 311834688.0\n",
      "Loss at iteration 2650: 416159552.0\n",
      "Loss at iteration 2700: 408384608.0\n",
      "Loss at iteration 2750: 708017024.0\n",
      "Loss at iteration 2800: 325696384.0\n",
      "Loss at iteration 2850: 244969648.0\n",
      "Loss at iteration 2900: 603940416.0\n",
      "Loss at iteration 2950: 607260224.0\n",
      "Loss at iteration 3000: 1018804352.0\n",
      "Loss at iteration 3050: 781187328.0\n",
      "Loss at iteration 3100: 658845952.0\n",
      "Loss at iteration 3150: 762881472.0\n",
      "Loss at iteration 3200: 69083880.0\n",
      "Loss at iteration 3250: 1013852544.0\n",
      "Loss at iteration 3300: 240578048.0\n",
      "Loss at iteration 3350: 535271904.0\n",
      "Loss at iteration 3400: 758425088.0\n",
      "Loss at iteration 3450: 322659296.0\n",
      "Loss at iteration 3500: 480898560.0\n",
      "Loss at iteration 3550: 927546688.0\n",
      "Loss at iteration 3600: 572205120.0\n",
      "Loss at iteration 3650: 284994624.0\n",
      "Loss at iteration 3700: 438747872.0\n",
      "Loss at iteration 3750: 1087664896.0\n",
      "Loss at iteration 3800: 257992592.0\n",
      "Loss at iteration 3850: 1165556608.0\n",
      "Loss at iteration 3900: 442868928.0\n",
      "Loss at iteration 3950: 1270995328.0\n",
      "Loss at iteration 4000: 837139840.0\n",
      "Loss at iteration 4050: 220934496.0\n",
      "Loss at iteration 4100: 948378368.0\n",
      "Loss at iteration 4150: 266525520.0\n",
      "Loss at iteration 4200: 957376192.0\n",
      "Loss at iteration 4250: 692013312.0\n",
      "Loss at iteration 4300: 821379328.0\n",
      "Loss at iteration 4350: 851835840.0\n",
      "Loss at iteration 4400: 780253056.0\n",
      "Loss at iteration 4450: 506703616.0\n",
      "Loss at iteration 4500: 777497024.0\n",
      "Loss at iteration 4550: 140564896.0\n",
      "Loss at iteration 4600: 1400132480.0\n",
      "Loss at iteration 4650: 479891456.0\n",
      "Loss at iteration 4700: 1207210240.0\n",
      "Loss at iteration 4750: 346584480.0\n",
      "Loss at iteration 4800: 499196928.0\n",
      "Loss at iteration 4850: 498697504.0\n",
      "Loss at iteration 4900: 426201984.0\n",
      "Loss at iteration 4950: 516179136.0\n",
      "Loss at iteration 5000: 719074688.0\n",
      "\n",
      "Final Test Accuracy: 0.6654676258992805\n"
     ]
    }
   ],
   "source": [
    "n_iterations = 5000\n",
    "for i in range(1, n_iterations + 1):\n",
    "    Z = model(X_train.float())\n",
    "    loss = loss_function(Z, y_train)\n",
    "    optimizer.zero_grad()\n",
    "    loss.backward()\n",
    "    optimizer.step()\n",
    "    \n",
    "    if i == 1 or i % 50 == 0:\n",
    "        print(\"Loss at iteration {}: {}\".format(i, loss))\n",
    "\n",
    "test_predictions = torch.argmax(\n",
    "    torch.softmax(model(X_test.float()), 1), axis=1\n",
    ")\n",
    "test_accuracy = float(sum(test_predictions == y_test)) / y_test.shape[0]\n",
    "print(\"\\nFinal Test Accuracy: {}\".format(test_accuracy))"
   ]
  },
  {
   "cell_type": "code",
   "execution_count": 14,
   "metadata": {},
   "outputs": [],
   "source": [
    "torch.save(model, 'tempmodel_v2.h5')"
   ]
  },
  {
   "cell_type": "code",
   "execution_count": 15,
   "metadata": {},
   "outputs": [
    {
     "data": {
      "text/plain": [
       "tensor([5])"
      ]
     },
     "execution_count": 15,
     "metadata": {},
     "output_type": "execute_result"
    }
   ],
   "source": [
    "l = torch.load('tempmodel_v2.h5')\n",
    "test_values = torch.tensor([[15.0,41.0,85.0,70.0,36.0,30.0,15.0,20.0,16.0,40.0,20.0,15000, 15000, 10000,15000, 5000]])\n",
    "torch.argmax(\n",
    "torch.softmax(l(test_values), 1)\n",
    "    , axis=1\n",
    ")"
   ]
  }
 ],
 "metadata": {
  "interpreter": {
   "hash": "7447ceb5e57b7b41884341f18cb31c61c6fd14c0ab5d8d1b1e7ce7ba61cc3137"
  },
  "kernelspec": {
   "display_name": "Python 3.8.5 64-bit ('base': conda)",
   "name": "python3"
  },
  "language_info": {
   "codemirror_mode": {
    "name": "ipython",
    "version": 3
   },
   "file_extension": ".py",
   "mimetype": "text/x-python",
   "name": "python",
   "nbconvert_exporter": "python",
   "pygments_lexer": "ipython3",
   "version": "3.8.5"
  },
  "orig_nbformat": 2
 },
 "nbformat": 4,
 "nbformat_minor": 2
}